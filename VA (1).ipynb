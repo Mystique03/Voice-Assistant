{
  "cells": [
    {
      "cell_type": "code",
      "execution_count": null,
      "id": "1a8f9492",
      "metadata": {
        "id": "1a8f9492",
        "outputId": "e7930a3b-523e-482a-c2d0-bce7ce9fd97d"
      },
      "outputs": [
        {
          "name": "stderr",
          "output_type": "stream",
          "text": [
            "C:\\Users\\smitha\\anaconda3\\lib\\site-packages\\numpy\\_distributor_init.py:30: UserWarning: loaded more than 1 DLL from .libs:\n",
            "C:\\Users\\smitha\\anaconda3\\lib\\site-packages\\numpy\\.libs\\libopenblas.FB5AE2TYXYH2IJRDKGDGQ3XBKLKTF43H.gfortran-win_amd64.dll\n",
            "C:\\Users\\smitha\\anaconda3\\lib\\site-packages\\numpy\\.libs\\libopenblas64__v0.3.21-gcc_10_3_0.dll\n",
            "  warnings.warn(\"loaded more than 1 DLL from .libs:\"\n"
          ]
        }
      ],
      "source": [
        "import  numpy as np\n",
        "import pandas as pd\n",
        "\n",
        "from sklearn.tree import DecisionTreeClassifier\n",
        "from sklearn.preprocessing import LabelEncoder\n",
        "from sklearn.naive_bayes import MultinomialNB\n",
        "from sklearn.svm import SVC\n",
        "from sklearn.ensemble import RandomForestClassifier\n",
        "from sklearn.model_selection import  train_test_split, cross_val_score\n",
        "from sklearn.metrics import classification_report\n",
        "from sklearn.metrics import accuracy_score, precision_score, recall_score, f1_score, roc_auc_score"
      ]
    },
    {
      "cell_type": "code",
      "execution_count": null,
      "id": "85b267ea",
      "metadata": {
        "id": "85b267ea"
      },
      "outputs": [],
      "source": [
        "train=pd.read_csv('Training.csv')\n",
        "test=pd.read_csv('Testing.csv')"
      ]
    },
    {
      "cell_type": "code",
      "execution_count": null,
      "id": "66c6eb64",
      "metadata": {
        "scrolled": true,
        "id": "66c6eb64",
        "outputId": "67f73fb4-6650-4175-e45c-501f598ff578"
      },
      "outputs": [
        {
          "data": {
            "text/plain": [
              "41"
            ]
          },
          "execution_count": 4,
          "metadata": {},
          "output_type": "execute_result"
        }
      ],
      "source": [
        "len(train['prognosis'].unique())"
      ]
    },
    {
      "cell_type": "code",
      "execution_count": null,
      "id": "e00dc144",
      "metadata": {
        "id": "e00dc144",
        "outputId": "81e107fd-e783-444f-f125-4d22ab23628a"
      },
      "outputs": [
        {
          "data": {
            "text/plain": [
              "(4920, 41)"
            ]
          },
          "execution_count": 5,
          "metadata": {},
          "output_type": "execute_result"
        }
      ],
      "source": [
        "len(train),len(test)"
      ]
    },
    {
      "cell_type": "code",
      "execution_count": null,
      "id": "1b78a91b",
      "metadata": {
        "id": "1b78a91b",
        "outputId": "94ab3a8a-8dda-4f59-bcaa-6b290bf4ea30"
      },
      "outputs": [
        {
          "name": "stdout",
          "output_type": "stream",
          "text": [
            "(4920, 133)\n"
          ]
        },
        {
          "data": {
            "text/html": [
              "<div>\n",
              "<style scoped>\n",
              "    .dataframe tbody tr th:only-of-type {\n",
              "        vertical-align: middle;\n",
              "    }\n",
              "\n",
              "    .dataframe tbody tr th {\n",
              "        vertical-align: top;\n",
              "    }\n",
              "\n",
              "    .dataframe thead th {\n",
              "        text-align: right;\n",
              "    }\n",
              "</style>\n",
              "<table border=\"1\" class=\"dataframe\">\n",
              "  <thead>\n",
              "    <tr style=\"text-align: right;\">\n",
              "      <th></th>\n",
              "      <th>itching</th>\n",
              "      <th>skin_rash</th>\n",
              "      <th>nodal_skin_eruptions</th>\n",
              "      <th>continuous_sneezing</th>\n",
              "      <th>shivering</th>\n",
              "      <th>chills</th>\n",
              "      <th>joint_pain</th>\n",
              "      <th>stomach_pain</th>\n",
              "      <th>acidity</th>\n",
              "      <th>ulcers_on_tongue</th>\n",
              "      <th>...</th>\n",
              "      <th>blackheads</th>\n",
              "      <th>scurring</th>\n",
              "      <th>skin_peeling</th>\n",
              "      <th>silver_like_dusting</th>\n",
              "      <th>small_dents_in_nails</th>\n",
              "      <th>inflammatory_nails</th>\n",
              "      <th>blister</th>\n",
              "      <th>red_sore_around_nose</th>\n",
              "      <th>yellow_crust_ooze</th>\n",
              "      <th>prognosis</th>\n",
              "    </tr>\n",
              "  </thead>\n",
              "  <tbody>\n",
              "    <tr>\n",
              "      <th>0</th>\n",
              "      <td>1</td>\n",
              "      <td>1</td>\n",
              "      <td>1</td>\n",
              "      <td>0</td>\n",
              "      <td>0</td>\n",
              "      <td>0</td>\n",
              "      <td>0</td>\n",
              "      <td>0</td>\n",
              "      <td>0</td>\n",
              "      <td>0</td>\n",
              "      <td>...</td>\n",
              "      <td>0</td>\n",
              "      <td>0</td>\n",
              "      <td>0</td>\n",
              "      <td>0</td>\n",
              "      <td>0</td>\n",
              "      <td>0</td>\n",
              "      <td>0</td>\n",
              "      <td>0</td>\n",
              "      <td>0</td>\n",
              "      <td>Fungal infection</td>\n",
              "    </tr>\n",
              "    <tr>\n",
              "      <th>1</th>\n",
              "      <td>0</td>\n",
              "      <td>1</td>\n",
              "      <td>1</td>\n",
              "      <td>0</td>\n",
              "      <td>0</td>\n",
              "      <td>0</td>\n",
              "      <td>0</td>\n",
              "      <td>0</td>\n",
              "      <td>0</td>\n",
              "      <td>0</td>\n",
              "      <td>...</td>\n",
              "      <td>0</td>\n",
              "      <td>0</td>\n",
              "      <td>0</td>\n",
              "      <td>0</td>\n",
              "      <td>0</td>\n",
              "      <td>0</td>\n",
              "      <td>0</td>\n",
              "      <td>0</td>\n",
              "      <td>0</td>\n",
              "      <td>Fungal infection</td>\n",
              "    </tr>\n",
              "    <tr>\n",
              "      <th>2</th>\n",
              "      <td>1</td>\n",
              "      <td>0</td>\n",
              "      <td>1</td>\n",
              "      <td>0</td>\n",
              "      <td>0</td>\n",
              "      <td>0</td>\n",
              "      <td>0</td>\n",
              "      <td>0</td>\n",
              "      <td>0</td>\n",
              "      <td>0</td>\n",
              "      <td>...</td>\n",
              "      <td>0</td>\n",
              "      <td>0</td>\n",
              "      <td>0</td>\n",
              "      <td>0</td>\n",
              "      <td>0</td>\n",
              "      <td>0</td>\n",
              "      <td>0</td>\n",
              "      <td>0</td>\n",
              "      <td>0</td>\n",
              "      <td>Fungal infection</td>\n",
              "    </tr>\n",
              "    <tr>\n",
              "      <th>3</th>\n",
              "      <td>1</td>\n",
              "      <td>1</td>\n",
              "      <td>0</td>\n",
              "      <td>0</td>\n",
              "      <td>0</td>\n",
              "      <td>0</td>\n",
              "      <td>0</td>\n",
              "      <td>0</td>\n",
              "      <td>0</td>\n",
              "      <td>0</td>\n",
              "      <td>...</td>\n",
              "      <td>0</td>\n",
              "      <td>0</td>\n",
              "      <td>0</td>\n",
              "      <td>0</td>\n",
              "      <td>0</td>\n",
              "      <td>0</td>\n",
              "      <td>0</td>\n",
              "      <td>0</td>\n",
              "      <td>0</td>\n",
              "      <td>Fungal infection</td>\n",
              "    </tr>\n",
              "    <tr>\n",
              "      <th>4</th>\n",
              "      <td>1</td>\n",
              "      <td>1</td>\n",
              "      <td>1</td>\n",
              "      <td>0</td>\n",
              "      <td>0</td>\n",
              "      <td>0</td>\n",
              "      <td>0</td>\n",
              "      <td>0</td>\n",
              "      <td>0</td>\n",
              "      <td>0</td>\n",
              "      <td>...</td>\n",
              "      <td>0</td>\n",
              "      <td>0</td>\n",
              "      <td>0</td>\n",
              "      <td>0</td>\n",
              "      <td>0</td>\n",
              "      <td>0</td>\n",
              "      <td>0</td>\n",
              "      <td>0</td>\n",
              "      <td>0</td>\n",
              "      <td>Fungal infection</td>\n",
              "    </tr>\n",
              "  </tbody>\n",
              "</table>\n",
              "<p>5 rows × 133 columns</p>\n",
              "</div>"
            ],
            "text/plain": [
              "   itching  skin_rash  nodal_skin_eruptions  continuous_sneezing  shivering  \\\n",
              "0        1          1                     1                    0          0   \n",
              "1        0          1                     1                    0          0   \n",
              "2        1          0                     1                    0          0   \n",
              "3        1          1                     0                    0          0   \n",
              "4        1          1                     1                    0          0   \n",
              "\n",
              "   chills  joint_pain  stomach_pain  acidity  ulcers_on_tongue  ...  \\\n",
              "0       0           0             0        0                 0  ...   \n",
              "1       0           0             0        0                 0  ...   \n",
              "2       0           0             0        0                 0  ...   \n",
              "3       0           0             0        0                 0  ...   \n",
              "4       0           0             0        0                 0  ...   \n",
              "\n",
              "   blackheads  scurring  skin_peeling  silver_like_dusting  \\\n",
              "0           0         0             0                    0   \n",
              "1           0         0             0                    0   \n",
              "2           0         0             0                    0   \n",
              "3           0         0             0                    0   \n",
              "4           0         0             0                    0   \n",
              "\n",
              "   small_dents_in_nails  inflammatory_nails  blister  red_sore_around_nose  \\\n",
              "0                     0                   0        0                     0   \n",
              "1                     0                   0        0                     0   \n",
              "2                     0                   0        0                     0   \n",
              "3                     0                   0        0                     0   \n",
              "4                     0                   0        0                     0   \n",
              "\n",
              "   yellow_crust_ooze         prognosis  \n",
              "0                  0  Fungal infection  \n",
              "1                  0  Fungal infection  \n",
              "2                  0  Fungal infection  \n",
              "3                  0  Fungal infection  \n",
              "4                  0  Fungal infection  \n",
              "\n",
              "[5 rows x 133 columns]"
            ]
          },
          "execution_count": 6,
          "metadata": {},
          "output_type": "execute_result"
        }
      ],
      "source": [
        "print(train.shape)\n",
        "train.head()"
      ]
    },
    {
      "cell_type": "code",
      "execution_count": null,
      "id": "4295660e",
      "metadata": {
        "id": "4295660e",
        "outputId": "00008a3c-51f2-4268-d119-699bec0d288b"
      },
      "outputs": [
        {
          "name": "stdout",
          "output_type": "stream",
          "text": [
            "(41, 134)\n"
          ]
        },
        {
          "data": {
            "text/html": [
              "<div>\n",
              "<style scoped>\n",
              "    .dataframe tbody tr th:only-of-type {\n",
              "        vertical-align: middle;\n",
              "    }\n",
              "\n",
              "    .dataframe tbody tr th {\n",
              "        vertical-align: top;\n",
              "    }\n",
              "\n",
              "    .dataframe thead th {\n",
              "        text-align: right;\n",
              "    }\n",
              "</style>\n",
              "<table border=\"1\" class=\"dataframe\">\n",
              "  <thead>\n",
              "    <tr style=\"text-align: right;\">\n",
              "      <th></th>\n",
              "      <th>itching</th>\n",
              "      <th>skin_rash</th>\n",
              "      <th>nodal_skin_eruptions</th>\n",
              "      <th>continuous_sneezing</th>\n",
              "      <th>shivering</th>\n",
              "      <th>chills</th>\n",
              "      <th>joint_pain</th>\n",
              "      <th>stomach_pain</th>\n",
              "      <th>acidity</th>\n",
              "      <th>ulcers_on_tongue</th>\n",
              "      <th>...</th>\n",
              "      <th>scurring</th>\n",
              "      <th>skin_peeling</th>\n",
              "      <th>silver_like_dusting</th>\n",
              "      <th>small_dents_in_nails</th>\n",
              "      <th>inflammatory_nails</th>\n",
              "      <th>blister</th>\n",
              "      <th>red_sore_around_nose</th>\n",
              "      <th>yellow_crust_ooze</th>\n",
              "      <th>prognosis</th>\n",
              "      <th>Unnamed: 133</th>\n",
              "    </tr>\n",
              "  </thead>\n",
              "  <tbody>\n",
              "    <tr>\n",
              "      <th>0</th>\n",
              "      <td>1</td>\n",
              "      <td>1</td>\n",
              "      <td>1</td>\n",
              "      <td>0</td>\n",
              "      <td>0</td>\n",
              "      <td>0</td>\n",
              "      <td>0</td>\n",
              "      <td>0</td>\n",
              "      <td>0</td>\n",
              "      <td>0</td>\n",
              "      <td>...</td>\n",
              "      <td>0</td>\n",
              "      <td>0</td>\n",
              "      <td>0</td>\n",
              "      <td>0</td>\n",
              "      <td>0</td>\n",
              "      <td>0</td>\n",
              "      <td>0</td>\n",
              "      <td>0</td>\n",
              "      <td>Fungal infection</td>\n",
              "      <td>NaN</td>\n",
              "    </tr>\n",
              "    <tr>\n",
              "      <th>1</th>\n",
              "      <td>0</td>\n",
              "      <td>0</td>\n",
              "      <td>0</td>\n",
              "      <td>1</td>\n",
              "      <td>1</td>\n",
              "      <td>1</td>\n",
              "      <td>0</td>\n",
              "      <td>0</td>\n",
              "      <td>0</td>\n",
              "      <td>0</td>\n",
              "      <td>...</td>\n",
              "      <td>0</td>\n",
              "      <td>0</td>\n",
              "      <td>0</td>\n",
              "      <td>0</td>\n",
              "      <td>0</td>\n",
              "      <td>0</td>\n",
              "      <td>0</td>\n",
              "      <td>0</td>\n",
              "      <td>Allergy</td>\n",
              "      <td>NaN</td>\n",
              "    </tr>\n",
              "    <tr>\n",
              "      <th>2</th>\n",
              "      <td>0</td>\n",
              "      <td>0</td>\n",
              "      <td>0</td>\n",
              "      <td>0</td>\n",
              "      <td>0</td>\n",
              "      <td>0</td>\n",
              "      <td>0</td>\n",
              "      <td>1</td>\n",
              "      <td>1</td>\n",
              "      <td>1</td>\n",
              "      <td>...</td>\n",
              "      <td>0</td>\n",
              "      <td>0</td>\n",
              "      <td>0</td>\n",
              "      <td>0</td>\n",
              "      <td>0</td>\n",
              "      <td>0</td>\n",
              "      <td>0</td>\n",
              "      <td>0</td>\n",
              "      <td>GERD</td>\n",
              "      <td>NaN</td>\n",
              "    </tr>\n",
              "    <tr>\n",
              "      <th>3</th>\n",
              "      <td>1</td>\n",
              "      <td>0</td>\n",
              "      <td>0</td>\n",
              "      <td>0</td>\n",
              "      <td>0</td>\n",
              "      <td>0</td>\n",
              "      <td>0</td>\n",
              "      <td>0</td>\n",
              "      <td>0</td>\n",
              "      <td>0</td>\n",
              "      <td>...</td>\n",
              "      <td>0</td>\n",
              "      <td>0</td>\n",
              "      <td>0</td>\n",
              "      <td>0</td>\n",
              "      <td>0</td>\n",
              "      <td>0</td>\n",
              "      <td>0</td>\n",
              "      <td>0</td>\n",
              "      <td>Chronic cholestasis</td>\n",
              "      <td>NaN</td>\n",
              "    </tr>\n",
              "    <tr>\n",
              "      <th>4</th>\n",
              "      <td>1</td>\n",
              "      <td>1</td>\n",
              "      <td>0</td>\n",
              "      <td>0</td>\n",
              "      <td>0</td>\n",
              "      <td>0</td>\n",
              "      <td>0</td>\n",
              "      <td>1</td>\n",
              "      <td>0</td>\n",
              "      <td>0</td>\n",
              "      <td>...</td>\n",
              "      <td>0</td>\n",
              "      <td>0</td>\n",
              "      <td>0</td>\n",
              "      <td>0</td>\n",
              "      <td>0</td>\n",
              "      <td>0</td>\n",
              "      <td>0</td>\n",
              "      <td>0</td>\n",
              "      <td>Drug Reaction</td>\n",
              "      <td>NaN</td>\n",
              "    </tr>\n",
              "  </tbody>\n",
              "</table>\n",
              "<p>5 rows × 134 columns</p>\n",
              "</div>"
            ],
            "text/plain": [
              "   itching  skin_rash  nodal_skin_eruptions  continuous_sneezing  shivering  \\\n",
              "0        1          1                     1                    0          0   \n",
              "1        0          0                     0                    1          1   \n",
              "2        0          0                     0                    0          0   \n",
              "3        1          0                     0                    0          0   \n",
              "4        1          1                     0                    0          0   \n",
              "\n",
              "   chills  joint_pain  stomach_pain  acidity  ulcers_on_tongue  ...  scurring  \\\n",
              "0       0           0             0        0                 0  ...         0   \n",
              "1       1           0             0        0                 0  ...         0   \n",
              "2       0           0             1        1                 1  ...         0   \n",
              "3       0           0             0        0                 0  ...         0   \n",
              "4       0           0             1        0                 0  ...         0   \n",
              "\n",
              "   skin_peeling  silver_like_dusting  small_dents_in_nails  \\\n",
              "0             0                    0                     0   \n",
              "1             0                    0                     0   \n",
              "2             0                    0                     0   \n",
              "3             0                    0                     0   \n",
              "4             0                    0                     0   \n",
              "\n",
              "   inflammatory_nails  blister  red_sore_around_nose  yellow_crust_ooze  \\\n",
              "0                   0        0                     0                  0   \n",
              "1                   0        0                     0                  0   \n",
              "2                   0        0                     0                  0   \n",
              "3                   0        0                     0                  0   \n",
              "4                   0        0                     0                  0   \n",
              "\n",
              "             prognosis  Unnamed: 133  \n",
              "0     Fungal infection           NaN  \n",
              "1              Allergy           NaN  \n",
              "2                 GERD           NaN  \n",
              "3  Chronic cholestasis           NaN  \n",
              "4        Drug Reaction           NaN  \n",
              "\n",
              "[5 rows x 134 columns]"
            ]
          },
          "execution_count": 7,
          "metadata": {},
          "output_type": "execute_result"
        }
      ],
      "source": [
        "print(test.shape)\n",
        "test.head()"
      ]
    },
    {
      "cell_type": "code",
      "execution_count": null,
      "id": "7ba7df11",
      "metadata": {
        "id": "7ba7df11"
      },
      "outputs": [],
      "source": [
        "test=test.drop(['Unnamed: 133'],axis=1)#droping last column"
      ]
    },
    {
      "cell_type": "code",
      "execution_count": null,
      "id": "9b767887",
      "metadata": {
        "id": "9b767887"
      },
      "outputs": [],
      "source": [
        "test=pd.DataFrame(test)\n",
        "train=pd.DataFrame(train)"
      ]
    },
    {
      "cell_type": "code",
      "execution_count": null,
      "id": "b035db51",
      "metadata": {
        "id": "b035db51"
      },
      "outputs": [],
      "source": [
        "test=test.rename(columns=lambda x: x.replace('_',' '))\n",
        "train=train.rename(columns=lambda x: x.replace('_',' '))"
      ]
    },
    {
      "cell_type": "code",
      "execution_count": null,
      "id": "657fd0cb",
      "metadata": {
        "id": "657fd0cb"
      },
      "outputs": [],
      "source": [
        "#splitting\n",
        "y=train['prognosis'] #target\n",
        "x=train.drop(['prognosis'],axis=1) #symptoms\n",
        "x_train,x_test,y_train,y_test=train_test_split(x,y,test_size=.33,random_state=42)\n"
      ]
    },
    {
      "cell_type": "code",
      "execution_count": null,
      "id": "9ad2383d",
      "metadata": {
        "id": "9ad2383d",
        "outputId": "aaecd750-5206-4e7d-a721-92fbcb047f66"
      },
      "outputs": [
        {
          "name": "stdout",
          "output_type": "stream",
          "text": [
            "Naive Bayes\n",
            "Acurracy:  1.0\n"
          ]
        }
      ],
      "source": [
        "print (\"Naive Bayes\")\n",
        "nb=MultinomialNB()\n",
        "clf_nb=nb.fit(x_train,y_train)\n",
        "print (\"Acurracy: \", clf_nb.score(x_test,y_test))"
      ]
    },
    {
      "cell_type": "code",
      "execution_count": null,
      "id": "2cb4eeee",
      "metadata": {
        "id": "2cb4eeee",
        "outputId": "0d045bb4-9093-4894-9577-4e62f2121a68"
      },
      "outputs": [
        {
          "name": "stdout",
          "output_type": "stream",
          "text": [
            "DecisionTree\n",
            "Acurracy:  0.9772167487684729\n"
          ]
        }
      ],
      "source": [
        "print (\"DecisionTree\")\n",
        "dt = DecisionTreeClassifier(min_samples_split=20)\n",
        "clf_dt=dt.fit(x_train,y_train)\n",
        "print (\"Acurracy: \", clf_dt.score(x_test,y_test))"
      ]
    },
    {
      "cell_type": "code",
      "execution_count": null,
      "id": "4c3886ec",
      "metadata": {
        "id": "4c3886ec",
        "outputId": "2bad0313-4b4b-4f5a-e519-644cc2b59050"
      },
      "outputs": [
        {
          "name": "stdout",
          "output_type": "stream",
          "text": [
            "Random Forest\n",
            "Acurracy:  1.0\n"
          ]
        }
      ],
      "source": [
        "print (\"Random Forest\")\n",
        "rf=RandomForestClassifier(n_estimators=150,n_jobs=25,random_state=33,criterion=\"entropy\")\n",
        "clf_rf=rf.fit(x_train,y_train)\n",
        "print (\"Acurracy: \", clf_rf.score(x_test,y_test))"
      ]
    },
    {
      "cell_type": "code",
      "execution_count": null,
      "id": "ad3b9106",
      "metadata": {
        "scrolled": true,
        "id": "ad3b9106",
        "outputId": "b8b54419-95de-4b6b-e845-c02fbcf5252c"
      },
      "outputs": [
        {
          "data": {
            "text/html": [
              "<div>\n",
              "<style scoped>\n",
              "    .dataframe tbody tr th:only-of-type {\n",
              "        vertical-align: middle;\n",
              "    }\n",
              "\n",
              "    .dataframe tbody tr th {\n",
              "        vertical-align: top;\n",
              "    }\n",
              "\n",
              "    .dataframe thead th {\n",
              "        text-align: right;\n",
              "    }\n",
              "</style>\n",
              "<table border=\"1\" class=\"dataframe\">\n",
              "  <thead>\n",
              "    <tr style=\"text-align: right;\">\n",
              "      <th></th>\n",
              "      <th>itching</th>\n",
              "      <th>skin rash</th>\n",
              "      <th>nodal skin eruptions</th>\n",
              "      <th>continuous sneezing</th>\n",
              "      <th>shivering</th>\n",
              "      <th>chills</th>\n",
              "      <th>joint pain</th>\n",
              "      <th>stomach pain</th>\n",
              "      <th>acidity</th>\n",
              "      <th>ulcers on tongue</th>\n",
              "      <th>...</th>\n",
              "      <th>blackheads</th>\n",
              "      <th>scurring</th>\n",
              "      <th>skin peeling</th>\n",
              "      <th>silver like dusting</th>\n",
              "      <th>small dents in nails</th>\n",
              "      <th>inflammatory nails</th>\n",
              "      <th>blister</th>\n",
              "      <th>red sore around nose</th>\n",
              "      <th>yellow crust ooze</th>\n",
              "      <th>prognosis</th>\n",
              "    </tr>\n",
              "  </thead>\n",
              "  <tbody>\n",
              "    <tr>\n",
              "      <th>0</th>\n",
              "      <td>1</td>\n",
              "      <td>1</td>\n",
              "      <td>1</td>\n",
              "      <td>0</td>\n",
              "      <td>0</td>\n",
              "      <td>0</td>\n",
              "      <td>0</td>\n",
              "      <td>0</td>\n",
              "      <td>0</td>\n",
              "      <td>0</td>\n",
              "      <td>...</td>\n",
              "      <td>0</td>\n",
              "      <td>0</td>\n",
              "      <td>0</td>\n",
              "      <td>0</td>\n",
              "      <td>0</td>\n",
              "      <td>0</td>\n",
              "      <td>0</td>\n",
              "      <td>0</td>\n",
              "      <td>0</td>\n",
              "      <td>Fungal infection</td>\n",
              "    </tr>\n",
              "    <tr>\n",
              "      <th>1</th>\n",
              "      <td>0</td>\n",
              "      <td>0</td>\n",
              "      <td>0</td>\n",
              "      <td>1</td>\n",
              "      <td>1</td>\n",
              "      <td>1</td>\n",
              "      <td>0</td>\n",
              "      <td>0</td>\n",
              "      <td>0</td>\n",
              "      <td>0</td>\n",
              "      <td>...</td>\n",
              "      <td>0</td>\n",
              "      <td>0</td>\n",
              "      <td>0</td>\n",
              "      <td>0</td>\n",
              "      <td>0</td>\n",
              "      <td>0</td>\n",
              "      <td>0</td>\n",
              "      <td>0</td>\n",
              "      <td>0</td>\n",
              "      <td>Allergy</td>\n",
              "    </tr>\n",
              "    <tr>\n",
              "      <th>2</th>\n",
              "      <td>0</td>\n",
              "      <td>0</td>\n",
              "      <td>0</td>\n",
              "      <td>0</td>\n",
              "      <td>0</td>\n",
              "      <td>0</td>\n",
              "      <td>0</td>\n",
              "      <td>1</td>\n",
              "      <td>1</td>\n",
              "      <td>1</td>\n",
              "      <td>...</td>\n",
              "      <td>0</td>\n",
              "      <td>0</td>\n",
              "      <td>0</td>\n",
              "      <td>0</td>\n",
              "      <td>0</td>\n",
              "      <td>0</td>\n",
              "      <td>0</td>\n",
              "      <td>0</td>\n",
              "      <td>0</td>\n",
              "      <td>GERD</td>\n",
              "    </tr>\n",
              "    <tr>\n",
              "      <th>3</th>\n",
              "      <td>1</td>\n",
              "      <td>0</td>\n",
              "      <td>0</td>\n",
              "      <td>0</td>\n",
              "      <td>0</td>\n",
              "      <td>0</td>\n",
              "      <td>0</td>\n",
              "      <td>0</td>\n",
              "      <td>0</td>\n",
              "      <td>0</td>\n",
              "      <td>...</td>\n",
              "      <td>0</td>\n",
              "      <td>0</td>\n",
              "      <td>0</td>\n",
              "      <td>0</td>\n",
              "      <td>0</td>\n",
              "      <td>0</td>\n",
              "      <td>0</td>\n",
              "      <td>0</td>\n",
              "      <td>0</td>\n",
              "      <td>Chronic cholestasis</td>\n",
              "    </tr>\n",
              "    <tr>\n",
              "      <th>4</th>\n",
              "      <td>1</td>\n",
              "      <td>1</td>\n",
              "      <td>0</td>\n",
              "      <td>0</td>\n",
              "      <td>0</td>\n",
              "      <td>0</td>\n",
              "      <td>0</td>\n",
              "      <td>1</td>\n",
              "      <td>0</td>\n",
              "      <td>0</td>\n",
              "      <td>...</td>\n",
              "      <td>0</td>\n",
              "      <td>0</td>\n",
              "      <td>0</td>\n",
              "      <td>0</td>\n",
              "      <td>0</td>\n",
              "      <td>0</td>\n",
              "      <td>0</td>\n",
              "      <td>0</td>\n",
              "      <td>0</td>\n",
              "      <td>Drug Reaction</td>\n",
              "    </tr>\n",
              "  </tbody>\n",
              "</table>\n",
              "<p>5 rows × 133 columns</p>\n",
              "</div>"
            ],
            "text/plain": [
              "   itching  skin rash  nodal skin eruptions  continuous sneezing  shivering  \\\n",
              "0        1          1                     1                    0          0   \n",
              "1        0          0                     0                    1          1   \n",
              "2        0          0                     0                    0          0   \n",
              "3        1          0                     0                    0          0   \n",
              "4        1          1                     0                    0          0   \n",
              "\n",
              "   chills  joint pain  stomach pain  acidity  ulcers on tongue  ...  \\\n",
              "0       0           0             0        0                 0  ...   \n",
              "1       1           0             0        0                 0  ...   \n",
              "2       0           0             1        1                 1  ...   \n",
              "3       0           0             0        0                 0  ...   \n",
              "4       0           0             1        0                 0  ...   \n",
              "\n",
              "   blackheads  scurring  skin peeling  silver like dusting  \\\n",
              "0           0         0             0                    0   \n",
              "1           0         0             0                    0   \n",
              "2           0         0             0                    0   \n",
              "3           0         0             0                    0   \n",
              "4           0         0             0                    0   \n",
              "\n",
              "   small dents in nails  inflammatory nails  blister  red sore around nose  \\\n",
              "0                     0                   0        0                     0   \n",
              "1                     0                   0        0                     0   \n",
              "2                     0                   0        0                     0   \n",
              "3                     0                   0        0                     0   \n",
              "4                     0                   0        0                     0   \n",
              "\n",
              "   yellow crust ooze            prognosis  \n",
              "0                  0     Fungal infection  \n",
              "1                  0              Allergy  \n",
              "2                  0                 GERD  \n",
              "3                  0  Chronic cholestasis  \n",
              "4                  0        Drug Reaction  \n",
              "\n",
              "[5 rows x 133 columns]"
            ]
          },
          "execution_count": 15,
          "metadata": {},
          "output_type": "execute_result"
        }
      ],
      "source": [
        "test.head()"
      ]
    },
    {
      "cell_type": "code",
      "execution_count": null,
      "id": "e0776027",
      "metadata": {
        "id": "e0776027",
        "outputId": "7ed484c3-db95-4ddb-c040-99223d4fe5d1"
      },
      "outputs": [
        {
          "name": "stdout",
          "output_type": "stream",
          "text": [
            "cross result========\n",
            "Random Forest [1. 1. 1.]\n",
            "Decision Tree [0.94833948 0.94824399 0.94454713]\n",
            "Naive Bayes [1. 1. 1.]\n"
          ]
        }
      ],
      "source": [
        "from sklearn import model_selection\n",
        "\n",
        "print (\"cross result========\")\n",
        "scores_rf = model_selection.cross_val_score(rf, x_test, y_test, cv=3)\n",
        "scores_dt = model_selection.cross_val_score(dt, x_test, y_test, cv=3)\n",
        "scores_nb = model_selection.cross_val_score(nb, x_test, y_test, cv=3)\n",
        "\n",
        "\n",
        "print(\"Random Forest\",scores_rf)\n",
        "print(\"Decision Tree\",scores_dt)\n",
        "print(\"Naive Bayes\",scores_nb)"
      ]
    },
    {
      "cell_type": "code",
      "execution_count": null,
      "id": "4a070411",
      "metadata": {
        "id": "4a070411"
      },
      "outputs": [],
      "source": [
        "#splitting\n",
        "n=test['prognosis'] #target\n",
        "m=test.drop(['prognosis'],axis=1) #symptoms\n",
        "x_train,x_test,y_train,y_test=train_test_split(m,n,test_size=.33,random_state=42)\n"
      ]
    },
    {
      "cell_type": "code",
      "execution_count": null,
      "id": "282add30",
      "metadata": {
        "id": "282add30",
        "outputId": "1b816bc2-1a8c-4ed5-9d49-22013289dd73"
      },
      "outputs": [
        {
          "name": "stdout",
          "output_type": "stream",
          "text": [
            "Random Forest 0.926829268292683\n",
            "F1 score: 1.0\n",
            "Recall: 1.0\n",
            "                              precision    recall  f1-score   support\n",
            "\n",
            "                        AIDS       1.00      1.00      1.00         1\n",
            "         Alcoholic hepatitis       1.00      1.00      1.00         1\n",
            "            Bronchial Asthma       1.00      1.00      1.00         1\n",
            "        Cervical spondylosis       1.00      1.00      1.00         1\n",
            "                 Common Cold       1.00      1.00      1.00         1\n",
            "                      Dengue       1.00      1.00      1.00         1\n",
            "               Drug Reaction       1.00      1.00      1.00         1\n",
            "             Gastroenteritis       1.00      1.00      1.00         1\n",
            "                Heart attack       1.00      1.00      1.00         1\n",
            "                    Impetigo       1.00      1.00      1.00         1\n",
            "Paralysis (brain hemorrhage)       1.00      1.00      1.00         1\n",
            "                   Psoriasis       1.00      1.00      1.00         1\n",
            "                Tuberculosis       1.00      1.00      1.00         1\n",
            "                 hepatitis A       1.00      1.00      1.00         1\n",
            "\n",
            "                    accuracy                           1.00        14\n",
            "                   macro avg       1.00      1.00      1.00        14\n",
            "                weighted avg       1.00      1.00      1.00        14\n",
            "\n"
          ]
        }
      ],
      "source": [
        "y_pred = clf_rf.predict(x_test)\n",
        "f1 = f1_score(y_test, y_pred, average='weighted')\n",
        "recall = recall_score(y_test, y_pred, average='weighted')\n",
        "print(\"Random Forest\",clf_rf.score(m,n))\n",
        "print(\"F1 score:\", f1)\n",
        "print(\"Recall:\", recall)\n",
        "print(classification_report(y_test, y_pred))"
      ]
    },
    {
      "cell_type": "code",
      "execution_count": null,
      "id": "506fb34e",
      "metadata": {
        "id": "506fb34e",
        "outputId": "75600261-0b2e-4b16-fc3b-d56b9dda2b34"
      },
      "outputs": [
        {
          "name": "stdout",
          "output_type": "stream",
          "text": [
            "Random Forest:\n",
            "Accuracy 0.926829268292683\n"
          ]
        }
      ],
      "source": [
        "y_pred = clf_rf.predict(x_test)\n",
        "f1 = f1_score(y_test, y_pred, average='weighted')\n",
        "recall = recall_score(y_test, y_pred, average='weighted')\n",
        "print(\"Random Forest:\")\n",
        "print(\"Accuracy\",clf_rf.score(m,n))"
      ]
    },
    {
      "cell_type": "code",
      "execution_count": null,
      "id": "0d342673",
      "metadata": {
        "id": "0d342673",
        "outputId": "e5910fe8-df3b-4655-ad67-3735a8b90c74"
      },
      "outputs": [
        {
          "name": "stdout",
          "output_type": "stream",
          "text": [
            "Actual score on test data\n",
            "Random Forest 0.926829268292683\n",
            "Decision Tree 0.926829268292683\n",
            "Naive Bayes 0.926829268292683\n"
          ]
        }
      ],
      "source": [
        "print(\"Actual score on test data\")\n",
        "print(\"Random Forest\",clf_rf.score(m,n))\n",
        "print(\"Decision Tree\",dt.score(m,n))\n",
        "print(\"Naive Bayes\",nb.score(m,n))"
      ]
    },
    {
      "cell_type": "code",
      "execution_count": null,
      "id": "307d3537",
      "metadata": {
        "id": "307d3537"
      },
      "outputs": [],
      "source": [
        "import openai\n",
        "import pyttsx3\n",
        "import speech_recognition as sr"
      ]
    },
    {
      "cell_type": "code",
      "execution_count": null,
      "id": "d818fbba",
      "metadata": {
        "id": "d818fbba"
      },
      "outputs": [],
      "source": [
        "openai.api_key=\"Your OpenAI Key\""
      ]
    },
    {
      "cell_type": "code",
      "execution_count": null,
      "id": "462c8ff2",
      "metadata": {
        "id": "462c8ff2"
      },
      "outputs": [],
      "source": [
        "#tts\n",
        "engine= pyttsx3.init()"
      ]
    },
    {
      "cell_type": "code",
      "execution_count": null,
      "id": "95dbc7b3",
      "metadata": {
        "id": "95dbc7b3"
      },
      "outputs": [],
      "source": [
        "#functions\n",
        "\n",
        "def stt(filename):\n",
        "    recognizer= sr.Recognizer()\n",
        "    with sr.AudioFile(filename) as source:\n",
        "        audio= recognizer.record(source)\n",
        "    try:\n",
        "        return recognizer.recognize_google(audio)\n",
        "    except:\n",
        "        print(\"Unknown error\")\n",
        "\n",
        "def speak_text(text):\n",
        "    engine.say(text)\n",
        "    engine.runAndWait()"
      ]
    },
    {
      "cell_type": "code",
      "execution_count": null,
      "id": "522138c3",
      "metadata": {
        "id": "522138c3",
        "outputId": "53c1bf6b-a9c6-4c8f-90a5-7a83ce53446a"
      },
      "outputs": [
        {
          "data": {
            "text/plain": [
              "'input_symptoms = [\\'high fever\\']\\npredicted_disease = Predict_disease(input_symptoms)\\nprint(\"Predicted disease:\", predicted_disease)'"
            ]
          },
          "execution_count": 25,
          "metadata": {},
          "output_type": "execute_result"
        }
      ],
      "source": [
        "# Define function to predict diseases based on symptoms\n",
        "def Predict_disease():\n",
        "    symptoms=input(\"symptoms? \").split(', ')\n",
        "    if len(symptoms)==1:\n",
        "        return symptoms\n",
        "    else:\n",
        "        symptoms_df = pd.DataFrame(columns=x_train.columns)\n",
        "        symptoms_df.loc[0] = 0\n",
        "        for symptom in symptoms:\n",
        "            symptoms_df[symptom] = 1\n",
        "\n",
        "        pred = rf.predict(symptoms_df)\n",
        "        return pred[0]\n",
        "'\n"
      ]
    },
    {
      "cell_type": "code",
      "execution_count": null,
      "id": "183856f6",
      "metadata": {
        "scrolled": true,
        "id": "183856f6",
        "outputId": "2c39a176-22f7-4925-95d0-c91b244a65e8"
      },
      "outputs": [
        {
          "name": "stdout",
          "output_type": "stream",
          "text": [
            "Say Hello Doctor...\n",
            "Listening...\n",
            "Unknown error\n",
            "Sorry, I didn't understand that. Can you please repeat?\n",
            "Say Hello Doctor...\n",
            "Listening...\n",
            "Unknown error\n",
            "Sorry, I didn't understand that. Can you please repeat?\n",
            "Say Hello Doctor...\n",
            "Listening...\n",
            "Please enter your name:smitha\n",
            "Doctor said: Hello smitha. How can I help you? \n",
            "Listening...\n",
            "You said: symptoms\n",
            "Please, Enter your symptoms!!\n",
            "symptoms? vomiting, headache, loss of balance\n",
            "Doctor Said : According to your symptoms. You have (vertigo) Paroymsal  Positional Vertigo\n",
            "Please wait, your treatment options is being generated.\n",
            "The treatments suggested for (vertigo) Paroymsal  Positional Vertigo are as follows:\n",
            "\n",
            "\n",
            "Treatment Options for Paroymsal Positional Vertigo: \n",
            "1. Canalith Repositioning Maneuvers (CRP): This is a series of head, body, and eye movements designed to move the particles out of the semicircular canal and back into the utricle. \n",
            "\n",
            "2. Vestibular Rehabilitation: This is a form of physical therapy that helps to improve balance and reduce dizziness.\n",
            "\n",
            "3. Medications: Medications such as antihistamines, anticholinergics, and benzodiazepines may be prescribed to help reduce symptoms.\n",
            "\n",
            "Precautions for Paroymsal Positional Vertigo:\n",
            "1. Avoid sudden movements: Sudden movements can cause a vertigo attack, so it is important to move slowly and carefully.\n",
            "\n",
            "2. Avoid activities that require balance: Activities such as running, jumping, or climbing stairs can be dangerous if you have vertigo.\n",
            "\n",
            "3. Stay hydrated: Dehydration can make vertigo worse, so it is important to drink plenty of fluids.\n",
            "\n",
            "4. Get plenty of rest: Fatigue can make vertigo worse, so it is important to get plenty of rest.\n",
            "Do you need a diet chart?\n",
            "Listening...\n",
            "You said:yes\n",
            "Doctor said: Please wait your diet chart is being prepared.\n",
            "Doctor said: The diet chart recommended:\n",
            " \n",
            "\n",
            "Ingredients to Eat:\n",
            "\n",
            "1. Leafy greens such as kale and spinach. \n",
            "2. Fruits and vegetables such as apples, bananas, carrots, and sweet potatoes. \n",
            "3. Low-fat proteins such as fish, chicken, and beans. \n",
            "4. Whole grains such as oatmeal, brown rice, and quinoa.\n",
            "\n",
            "Ingredients to Avoid:\n",
            "\n",
            "1. Caffeine and alcohol. \n",
            "2. High-salt and processed foods. \n",
            "3. Fatty and greasy foods. \n",
            "4. Sugar and artificial sweeteners.\n",
            "Say Hello Doctor...\n",
            "Listening...\n",
            "You said :bye\n",
            "Doctor Said: Goodbye! Have a good day\n"
          ]
        }
      ],
      "source": [
        "import warnings\n",
        "\n",
        "warnings.filterwarnings(\"ignore\")\n",
        "\n",
        "def main():\n",
        "    while True:\n",
        "        print(\"Say Hello Doctor...\")\n",
        "        with sr.Microphone() as source:\n",
        "            r=sr.Recognizer()\n",
        "            audio = r.listen(source)\n",
        "        print(\"Listening...\")\n",
        "        filename = \"input.wav\"\n",
        "        with open(filename, \"wb\") as f:\n",
        "            f.write(audio.get_wav_data())\n",
        "        text = stt(filename)\n",
        "        if text and text.lower() == \"hello doctor\":\n",
        "            speak_text(\"Please enter your name?\")\n",
        "            name=input(\"Please enter your name:\")\n",
        "            print(f\"Doctor said: Hello \"+name+\". How can I help you? \")\n",
        "            speak_text(\"Hello \"+name+\" How can I help you?\")\n",
        "            with sr.Microphone() as source:\n",
        "                audio = r.listen(source)\n",
        "            print(\"Listening...\")\n",
        "            filename = \"input.wav\"\n",
        "            with open(filename, \"wb\") as f:\n",
        "                f.write(audio.get_wav_data())\n",
        "            text = stt(filename)\n",
        "            if text and (\"Predict my symptoms\" in text or \"predict disease\" in text or \"symptoms\" in text or \"predict symptoms\" in text):\n",
        "                print(\"You said: \"+text)\n",
        "                print(\"Please, Enter your symptoms!!\")\n",
        "                speak_text(\"Please, Enter your symptoms\")\n",
        "                predict = Predict_disease()\n",
        "                string=\"\".join(predict)\n",
        "                print(f\"Doctor Said : According to your symptoms. You have \"+string)\n",
        "                speak_text(\"According to your symptoms. You have \"+string)\n",
        "                print(\"Please wait, your treatment options is being generated.\")\n",
        "                speak_text(\"Please wait, your treatment options is being generated.\")\n",
        "                treatment  = generate_response(string)\n",
        "                speak_text(\"The Treatments suggested for \"+string+\" are as follows\")\n",
        "                print(f\"The treatments suggested for \"+string+\" are as follows:\\n\"+treatment)\n",
        "                speak_text(treatment)\n",
        "                speak_text(\"Do you need a diet chart?\")\n",
        "                print(\"Do you need a diet chart?\")\n",
        "                with sr.Microphone() as source:\n",
        "                    audio = r.listen(source)\n",
        "                    print(\"Listening...\")\n",
        "                filename = \"input.wav\"\n",
        "                with open(filename, \"wb\") as f:\n",
        "                    f.write(audio.get_wav_data())\n",
        "                text = stt(filename)\n",
        "                print(\"You said:\"+text)\n",
        "                if text and (\"Yes\" in text or \"yes\" in text):\n",
        "                    print(\"Doctor said: Please wait your diet chart is being prepared.\")\n",
        "                    speak_text(\"Please wait your diet chart is being prepared.\")\n",
        "                    dietchart=diet_chart(string)\n",
        "                    print(f\"Doctor said: The diet chart recommended:\\n {dietchart}\")\n",
        "                    speak_text(\"This is the diet chart recommended for \"+string)\n",
        "                    speak_text(\"Please note that this is just an example and it's important to consult with a healthcare professional or registered dietitian to create a personalized plan that meets your needs and goals.\")\n",
        "                elif text == \"no\":\n",
        "                    speak_text(\"Goodbye, have a good day.\")\n",
        "                    print(\"Doctor said: Goodbye!\")\n",
        "                    break\n",
        "            elif text and (\"Prepare a diet chart\" in text or \"Create a diet chart\" in text or \"diet chart\" in text):\n",
        "                print(\"You said :\"+text)\n",
        "                speak_text(\"What is your concern?\")\n",
        "                print(\"Doctor said: What is your concern?\")\n",
        "                print(\"Eg: weight loss, vegan diet, kidney stone diet, etc.\")\n",
        "                with sr.Microphone() as source:\n",
        "                    audio = r.listen(source)\n",
        "                    print(\"Listening...\")\n",
        "                filename = \"input.wav\"\n",
        "                with open(filename, \"wb\") as f:\n",
        "                    f.write(audio.get_wav_data())\n",
        "                text = stt(filename)\n",
        "                print(\"You said :\"+text)\n",
        "                print(\"Doctor said: Please wait your diet chart is being prepared.\")\n",
        "                speak_text(\"Please wait, your diet chart it being created!!\")\n",
        "                dietchart=diet_chart(text)\n",
        "                print(f\"Doctor said: The diet chart recommended is:\\n {dietchart}\")\n",
        "                speak_text(dietchart)\n",
        "                speak_text(\"Please note that this is just an example and it's important to consult with a healthcare professional or registered dietitian to create a personalized plan that meets your needs and goals.\")\n",
        "            elif text and (\"what are the treatments?\" in text or \"treatments\" in text or \"How to cure this?\" in text):\n",
        "                print(\"You said :\"+text)\n",
        "                speak_text(\"Doctor said: Please, mention your symptoms first.\")\n",
        "                print(\"Doctor said: Please, mention your symptoms first.\")\n",
        "\n",
        "            elif text==\" \":\n",
        "                speak_text(\"Doctor said: Sorry, I didn't get you. Mention your symptoms again.\")\n",
        "        elif text and (\"stop\" in text or \"exit\" in text or \"bye\" in text):\n",
        "            print(\"You said :\"+text)\n",
        "            speak_text(\"Goodbye, have a good day.\")\n",
        "            print(\"Doctor Said: Goodbye! Have a good day\")\n",
        "            break\n",
        "        else:\n",
        "            speak_text(\"Sorry, I didn't understand that. Can you please repeat?\")\n",
        "            print(\"Sorry, I didn't understand that. Can you please repeat?\")\n",
        "\n",
        "if __name__ == \"__main__\":\n",
        "    main()\n"
      ]
    },
    {
      "cell_type": "code",
      "execution_count": null,
      "id": "067d0cc8",
      "metadata": {
        "scrolled": false,
        "id": "067d0cc8"
      },
      "outputs": [],
      "source": []
    },
    {
      "cell_type": "code",
      "execution_count": null,
      "id": "39805e2c",
      "metadata": {
        "id": "39805e2c"
      },
      "outputs": [],
      "source": []
    }
  ],
  "metadata": {
    "kernelspec": {
      "display_name": "Python 3 (ipykernel)",
      "language": "python",
      "name": "python3"
    },
    "language_info": {
      "codemirror_mode": {
        "name": "ipython",
        "version": 3
      },
      "file_extension": ".py",
      "mimetype": "text/x-python",
      "name": "python",
      "nbconvert_exporter": "python",
      "pygments_lexer": "ipython3",
      "version": "3.8.8"
    },
    "colab": {
      "provenance": []
    }
  },
  "nbformat": 4,
  "nbformat_minor": 5
}